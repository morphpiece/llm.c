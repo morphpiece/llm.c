{
 "cells": [
  {
   "cell_type": "code",
   "execution_count": 2,
   "id": "c488aac3-2cb4-4697-b3f1-9be09940089d",
   "metadata": {
    "tags": []
   },
   "outputs": [
    {
     "name": "stdout",
     "output_type": "stream",
     "text": [
      "\u001b[33mDEPRECATION: devscripts 2.22.1ubuntu1 has a non-standard version number. pip 24.1 will enforce this behaviour change. A possible replacement is to upgrade to a newer version of devscripts or contact the author to suggest that they release a version with a conforming version number. Discussion can be found at https://github.com/pypa/pip/issues/12063\u001b[0m\u001b[33m\n",
      "\u001b[0m"
     ]
    }
   ],
   "source": [
    "!pip install -q transformers"
   ]
  },
  {
   "cell_type": "code",
   "execution_count": 34,
   "id": "f535598d-a97d-41b1-9671-d40516dd782a",
   "metadata": {
    "tags": []
   },
   "outputs": [],
   "source": [
    "import export_hf as exp\n",
    "from pathlib import Path\n",
    "from transformers import AutoModelForCausalLM, AutoConfig\n",
    "import json"
   ]
  },
  {
   "cell_type": "code",
   "execution_count": 6,
   "id": "32e26a55-24bf-4591-87bb-66e8dae39930",
   "metadata": {
    "tags": []
   },
   "outputs": [],
   "source": [
    "models = list(Path('/pfss/mlde/workspaces/mlde_wsp_MorphPiece/exps_llmc').glob('gpt3s_*/model*.bin'))"
   ]
  },
  {
   "cell_type": "code",
   "execution_count": 7,
   "id": "ddafe6f0-b03b-442f-bcb2-9d509cef125c",
   "metadata": {
    "tags": []
   },
   "outputs": [
    {
     "data": {
      "text/plain": [
       "[PosixPath('/pfss/mlde/workspaces/mlde_wsp_MorphPiece/exps_llmc/gpt3s_bpe_50k/model_00005000.bin'),\n",
       " PosixPath('/pfss/mlde/workspaces/mlde_wsp_MorphPiece/exps_llmc/gpt3s_bpe_50k/model_00015000.bin'),\n",
       " PosixPath('/pfss/mlde/workspaces/mlde_wsp_MorphPiece/exps_llmc/gpt3s_bpe_50k/model_00010000.bin'),\n",
       " PosixPath('/pfss/mlde/workspaces/mlde_wsp_MorphPiece/exps_llmc/gpt3s_morph15k_50k/model_00005000.bin'),\n",
       " PosixPath('/pfss/mlde/workspaces/mlde_wsp_MorphPiece/exps_llmc/gpt3s_morph15k_50k/model_00015000.bin'),\n",
       " PosixPath('/pfss/mlde/workspaces/mlde_wsp_MorphPiece/exps_llmc/gpt3s_morph15k_50k/model_00010000.bin'),\n",
       " PosixPath('/pfss/mlde/workspaces/mlde_wsp_MorphPiece/exps_llmc/gpt3s_morph6k_50k/model_00005000.bin'),\n",
       " PosixPath('/pfss/mlde/workspaces/mlde_wsp_MorphPiece/exps_llmc/gpt3s_morph6k_50k/model_00015000.bin'),\n",
       " PosixPath('/pfss/mlde/workspaces/mlde_wsp_MorphPiece/exps_llmc/gpt3s_morph6k_50k/model_00010000.bin')]"
      ]
     },
     "execution_count": 7,
     "metadata": {},
     "output_type": "execute_result"
    }
   ],
   "source": [
    "models"
   ]
  },
  {
   "cell_type": "code",
   "execution_count": 39,
   "id": "9c5665da-3dbf-4792-b69e-6013e40aa98d",
   "metadata": {
    "tags": []
   },
   "outputs": [],
   "source": [
    "def fix_attn_impl_config(model):\n",
    "    config_file = f\"{model}/config.json\"\n",
    "    c = json.load(open(config_file))\n",
    "    c['_attn_implementation']=\"flash_attention_2\"\n",
    "    json.dump(c,open(f\"{model}/config.json\",'wt'), indent=2)"
   ]
  },
  {
   "cell_type": "code",
   "execution_count": 50,
   "id": "49453425-a1cb-43f4-a479-dda1ff42d685",
   "metadata": {
    "tags": []
   },
   "outputs": [
    {
     "name": "stdout",
     "output_type": "stream",
     "text": [
      "Converting model /pfss/mlde/workspaces/mlde_wsp_MorphPiece/exps_llmc/gpt3s_bpe_50k/model_00015000.bin to gpt3s_bpe_50k_step15k in bfloat16 format and pushing to Hugging Face: False\n",
      "version=5, maxT=1024, V=50257, Vp=50304, L=12, H=12, C=768\n",
      "Converting model /pfss/mlde/workspaces/mlde_wsp_MorphPiece/exps_llmc/gpt3s_bpe_50k/model_00010000.bin to gpt3s_bpe_50k_step10k in bfloat16 format and pushing to Hugging Face: False\n",
      "version=5, maxT=1024, V=50257, Vp=50304, L=12, H=12, C=768\n",
      "Converting model /pfss/mlde/workspaces/mlde_wsp_MorphPiece/exps_llmc/gpt3s_morph15k_50k/model_00005000.bin to gpt3s_morph15k_50k_step5k in bfloat16 format and pushing to Hugging Face: False\n",
      "version=5, maxT=1024, V=50257, Vp=50304, L=12, H=12, C=768\n",
      "Converting model /pfss/mlde/workspaces/mlde_wsp_MorphPiece/exps_llmc/gpt3s_morph15k_50k/model_00015000.bin to gpt3s_morph15k_50k_step15k in bfloat16 format and pushing to Hugging Face: False\n",
      "version=5, maxT=1024, V=50257, Vp=50304, L=12, H=12, C=768\n",
      "Converting model /pfss/mlde/workspaces/mlde_wsp_MorphPiece/exps_llmc/gpt3s_morph15k_50k/model_00010000.bin to gpt3s_morph15k_50k_step10k in bfloat16 format and pushing to Hugging Face: False\n",
      "version=5, maxT=1024, V=50257, Vp=50304, L=12, H=12, C=768\n",
      "Converting model /pfss/mlde/workspaces/mlde_wsp_MorphPiece/exps_llmc/gpt3s_morph6k_50k/model_00005000.bin to gpt3s_morph6k_50k_step5k in bfloat16 format and pushing to Hugging Face: False\n",
      "version=5, maxT=1024, V=50257, Vp=50304, L=12, H=12, C=768\n",
      "Converting model /pfss/mlde/workspaces/mlde_wsp_MorphPiece/exps_llmc/gpt3s_morph6k_50k/model_00015000.bin to gpt3s_morph6k_50k_step15k in bfloat16 format and pushing to Hugging Face: False\n",
      "version=5, maxT=1024, V=50257, Vp=50304, L=12, H=12, C=768\n",
      "Converting model /pfss/mlde/workspaces/mlde_wsp_MorphPiece/exps_llmc/gpt3s_morph6k_50k/model_00010000.bin to gpt3s_morph6k_50k_step10k in bfloat16 format and pushing to Hugging Face: False\n",
      "version=5, maxT=1024, V=50257, Vp=50304, L=12, H=12, C=768\n"
     ]
    }
   ],
   "source": [
    "for bin_file in models[1:]:\n",
    "    model_id = bin_file.parts[-2]\n",
    "    step_k = int(bin_file.stem[9:])//1000\n",
    "    output_id = f\"{model_id}_step{step_k}k\"\n",
    "    exp.convert(filepath=bin_file,output=output_id)\n",
    "    fix_attn_impl_config(output_id)"
   ]
  },
  {
   "cell_type": "code",
   "execution_count": 21,
   "id": "19ee5107-3dca-4372-8bd3-d1457a008d4a",
   "metadata": {
    "tags": []
   },
   "outputs": [
    {
     "name": "stdout",
     "output_type": "stream",
     "text": [
      "Converting model /pfss/mlde/workspaces/mlde_wsp_MorphPiece/exps_llmc/gpt3s_bpe_50k/model_00005000.bin to gpt3s_bpe_50k_step5k in bfloat16 format and pushing to Hugging Face: False\n",
      "version=5, maxT=1024, V=50257, Vp=50304, L=12, H=12, C=768\n"
     ]
    }
   ],
   "source": [
    "exp.convert(filepath=models[0],output=output_id)"
   ]
  },
  {
   "cell_type": "code",
   "execution_count": 46,
   "id": "02f7b15a-f45f-4692-ae07-7e94d4c40ca3",
   "metadata": {
    "tags": []
   },
   "outputs": [],
   "source": [
    "model = AutoModelForCausalLM.from_pretrained('gpt3s_bpe_50k_step5k')"
   ]
  },
  {
   "cell_type": "code",
   "execution_count": 49,
   "id": "8df3f0e6-9b1b-42f3-aaa6-3afb67a3ab2a",
   "metadata": {
    "tags": []
   },
   "outputs": [
    {
     "data": {
      "text/plain": [
       "GPT2Config {\n",
       "  \"_name_or_path\": \"gpt3s_bpe_50k_step5k\",\n",
       "  \"activation_function\": \"gelu_new\",\n",
       "  \"architectures\": [\n",
       "    \"GPT2LMHeadModel\"\n",
       "  ],\n",
       "  \"attn_pdrop\": 0.1,\n",
       "  \"bos_token_id\": 50256,\n",
       "  \"embd_pdrop\": 0.1,\n",
       "  \"eos_token_id\": 50256,\n",
       "  \"initializer_range\": 0.02,\n",
       "  \"layer_norm_epsilon\": 1e-05,\n",
       "  \"model_type\": \"gpt2\",\n",
       "  \"n_ctx\": 1024,\n",
       "  \"n_embd\": 768,\n",
       "  \"n_head\": 12,\n",
       "  \"n_inner\": null,\n",
       "  \"n_layer\": 12,\n",
       "  \"n_positions\": 1024,\n",
       "  \"reorder_and_upcast_attn\": false,\n",
       "  \"resid_pdrop\": 0.1,\n",
       "  \"scale_attn_by_inverse_layer_idx\": false,\n",
       "  \"scale_attn_weights\": true,\n",
       "  \"summary_activation\": null,\n",
       "  \"summary_first_dropout\": 0.1,\n",
       "  \"summary_proj_to_labels\": true,\n",
       "  \"summary_type\": \"cls_index\",\n",
       "  \"summary_use_proj\": true,\n",
       "  \"torch_dtype\": \"bfloat16\",\n",
       "  \"transformers_version\": \"4.41.2\",\n",
       "  \"use_cache\": true,\n",
       "  \"vocab_size\": 50257\n",
       "}"
      ]
     },
     "execution_count": 49,
     "metadata": {},
     "output_type": "execute_result"
    }
   ],
   "source": [
    "model.config"
   ]
  },
  {
   "cell_type": "code",
   "execution_count": 26,
   "id": "8cd9a3e7-ffa3-4f9a-9b42-648f63edf02e",
   "metadata": {
    "tags": []
   },
   "outputs": [],
   "source": [
    "config._attn_implementation = \"flash_attention_2\""
   ]
  },
  {
   "cell_type": "code",
   "execution_count": 40,
   "id": "e867c7d9-3953-4566-b687-31c9b27943a7",
   "metadata": {
    "tags": []
   },
   "outputs": [],
   "source": [
    "fix_attn_impl_config('gpt3s_bpe_50k_step5k')"
   ]
  },
  {
   "cell_type": "code",
   "execution_count": 43,
   "id": "4831548b-f0b7-440d-ad49-80e5912bdbf8",
   "metadata": {
    "tags": []
   },
   "outputs": [
    {
     "data": {
      "text/plain": [
       "'gpt3s_bpe_50k_step5k'"
      ]
     },
     "execution_count": 43,
     "metadata": {},
     "output_type": "execute_result"
    }
   ],
   "source": [
    "output_id"
   ]
  },
  {
   "cell_type": "code",
   "execution_count": null,
   "id": "035e3a24-5ce7-424f-a365-62a424cda972",
   "metadata": {},
   "outputs": [],
   "source": []
  }
 ],
 "metadata": {
  "kernelspec": {
   "display_name": "Python 3 (ipykernel)",
   "language": "python",
   "name": "python3"
  },
  "language_info": {
   "codemirror_mode": {
    "name": "ipython",
    "version": 3
   },
   "file_extension": ".py",
   "mimetype": "text/x-python",
   "name": "python",
   "nbconvert_exporter": "python",
   "pygments_lexer": "ipython3",
   "version": "3.10.12"
  }
 },
 "nbformat": 4,
 "nbformat_minor": 5
}
